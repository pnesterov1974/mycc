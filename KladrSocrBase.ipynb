{
 "cells": [
  {
   "cell_type": "code",
   "execution_count": null,
   "metadata": {
    "dotnet_interactive": {
     "language": "csharp"
    },
    "polyglot_notebook": {
     "kernelName": "csharp"
    }
   },
   "outputs": [],
   "source": [
    "#r \"nuget:Microsoft.Data.SqlClient\"\n",
    "#r \"nuget: Microsoft.Data.Analysis\"\n",
    "using Microsoft.Data.SqlClient;\n",
    "using Microsoft.Data.Analysis;\n",
    "#!import MsSqlConnections.cs\n",
    "#!import KladrSocrBase.cs"
   ]
  },
  {
   "cell_type": "code",
   "execution_count": null,
   "metadata": {
    "dotnet_interactive": {
     "language": "csharp"
    },
    "polyglot_notebook": {
     "kernelName": "csharp"
    }
   },
   "outputs": [],
   "source": [
    "var connStr = MsSqlConnections.MsSqlConnectionString(\"ETL-SSIS-D-02\", \"kladrStg\");\n",
    "connStr"
   ]
  },
  {
   "cell_type": "code",
   "execution_count": null,
   "metadata": {
    "dotnet_interactive": {
     "language": "csharp"
    },
    "polyglot_notebook": {
     "kernelName": "csharp"
    }
   },
   "outputs": [],
   "source": [
    "var iterSb = SocrBaseClass.IterSocrBase(connStr);\n",
    "var cnt = iterSb.Count();\n",
    "cnt"
   ]
  },
  {
   "cell_type": "code",
   "execution_count": null,
   "metadata": {
    "dotnet_interactive": {
     "language": "csharp"
    },
    "polyglot_notebook": {
     "kernelName": "csharp"
    }
   },
   "outputs": [],
   "source": [
    "int[] Ids = new int[cnt];\n",
    "int[] Levels = new int[cnt];\n",
    "string[] ScNames = new string[cnt];\n",
    "string[] SocrNames = new string[cnt];\n",
    "string[] Kod_T_Sts = new string[cnt];\n",
    "DateOnly[] BusinessDTs = new DateOnly[cnt];"
   ]
  },
  {
   "cell_type": "code",
   "execution_count": null,
   "metadata": {
    "dotnet_interactive": {
     "language": "csharp"
    },
    "polyglot_notebook": {
     "kernelName": "csharp"
    }
   },
   "outputs": [],
   "source": [
    "int i = 0;\n",
    "foreach (SocrBase sb in ss)\n",
    "{\n",
    "    Ids[i] = sb.Id;\n",
    "    Levels[i] = sb.Level;\n",
    "    ScNames[i] = sb.ScName;\n",
    "    SocrNames[i] = sb.SocrName;\n",
    "    Kod_T_Sts[i] = sb.Kod_T_St;\n",
    "    BusinessDTs[i] = sb.BusinessDT;\n",
    "    i += 1;\n",
    "}"
   ]
  },
  {
   "cell_type": "code",
   "execution_count": null,
   "metadata": {
    "dotnet_interactive": {
     "language": "csharp"
    },
    "polyglot_notebook": {
     "kernelName": "csharp"
    }
   },
   "outputs": [],
   "source": [
    "DataFrameColumn[] columns = {\n",
    "     new PrimitiveDataFrameColumn<int>(\"Id\", Ids),\n",
    "     new PrimitiveDataFrameColumn<int>(\"Level\", Levels),\n",
    "     new StringDataFrameColumn(\"ScName\", ScNames),\n",
    "     new StringDataFrameColumn(\"SocrName\", SocrNames),\n",
    "     new StringDataFrameColumn(\"Kod_T_St\", Kod_T_Sts),\n",
    "     //new PrimitiveDataFrameColumn<DateOnly>(\"BusinessDT\", BusinessDTs)\n",
    "};"
   ]
  },
  {
   "cell_type": "code",
   "execution_count": null,
   "metadata": {
    "dotnet_interactive": {
     "language": "csharp"
    },
    "polyglot_notebook": {
     "kernelName": "csharp"
    }
   },
   "outputs": [],
   "source": [
    "DataFrame df = new(columns);\n",
    "df"
   ]
  }
 ],
 "metadata": {
  "kernelspec": {
   "display_name": ".NET (C#)",
   "language": "C#",
   "name": ".net-csharp"
  },
  "polyglot_notebook": {
   "kernelInfo": {
    "defaultKernelName": "csharp",
    "items": [
     {
      "aliases": [],
      "languageName": "csharp",
      "name": "csharp"
     }
    ]
   }
  }
 },
 "nbformat": 4,
 "nbformat_minor": 2
}

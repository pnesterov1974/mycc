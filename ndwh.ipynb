{
 "cells": [
  {
   "cell_type": "code",
   "execution_count": null,
   "metadata": {
    "dotnet_interactive": {
     "language": "csharp"
    },
    "polyglot_notebook": {
     "kernelName": "csharp"
    }
   },
   "outputs": [
    {
     "data": {
      "text/html": [
       "<div><div></div><div></div><div><strong>Installed Packages</strong><ul><li><span>Microsoft.Data.Analysis, 0.22.0</span></li><li><span>Microsoft.Data.SqlClient, 5.2.2</span></li></ul></div></div>"
      ]
     },
     "metadata": {},
     "output_type": "display_data"
    }
   ],
   "source": [
    "#r \"nuget:Microsoft.Data.SqlClient\"\n",
    "#r \"nuget: Microsoft.Data.Analysis\"\n",
    "using Microsoft.Data.SqlClient;\n",
    "using Microsoft.Data.Analysis;\n",
    "#!import MsSqlConnections.cs\n",
    "#!import NDwhErrors.cs\n",
    "#!import SsisErrorsMessages.cs"
   ]
  },
  {
   "cell_type": "code",
   "execution_count": null,
   "metadata": {
    "dotnet_interactive": {
     "language": "csharp"
    },
    "polyglot_notebook": {
     "kernelName": "csharp"
    }
   },
   "outputs": [],
   "source": [
    "var connStrNdwh = MsSqlConnections.MsSqlConnectionString(\"comp-db-p-02\", \"DWH\");\n",
    "var connStrSsis = MsSqlConnections.MsSqlConnectionString(\"etl-ssis-p-02\", \"SSISDB\");"
   ]
  },
  {
   "cell_type": "code",
   "execution_count": null,
   "metadata": {
    "dotnet_interactive": {
     "language": "csharp"
    },
    "polyglot_notebook": {
     "kernelName": "csharp"
    }
   },
   "outputs": [],
   "source": [
    "var ndwh = NDwhErrors.IterNdwhErrors(connStrNdwh);\n",
    "var cntNdwh = ndwh.Count();\n",
    "//cntNdwh"
   ]
  },
  {
   "cell_type": "code",
   "execution_count": null,
   "metadata": {
    "dotnet_interactive": {
     "language": "csharp"
    },
    "polyglot_notebook": {
     "kernelName": "csharp"
    }
   },
   "outputs": [],
   "source": [
    "var ssism = SsisErrorMessages.IterSsisErrorMessages(connStrSsis);\n",
    "var cntSsism = ssism.Count();\n",
    "//cntSsism"
   ]
  },
  {
   "cell_type": "code",
   "execution_count": null,
   "metadata": {
    "dotnet_interactive": {
     "language": "csharp"
    },
    "polyglot_notebook": {
     "kernelName": "csharp"
    }
   },
   "outputs": [
    {
     "data": {
      "text/html": [
       "<table><thead><tr><th><i>index</i></th><th>value</th></tr></thead><tbody><tr><td>0</td><td><details class=\"dni-treeview\"><summary><span class=\"dni-code-hint\"><code>{ ExecId = 7318630, EventDttm = 13.01.2025 08:00:04, ExecutionPath = \\CP_101_STG_P1\\run_template_stg\\Template_Parallel\\Queue 2[3]\\run_template_stg_onetable_q2\\Template_STG_OneTable\\Load data Src_Temp, MessageType = 120, Message = Load data Src_Temp:Error: Execution Timeout Expired.  The timeout peri...</code></span></summary><div><table><thead><tr></tr></thead><tbody><tr><td>ExecId</td><td><div class=\"dni-plaintext\"><pre>7318630</pre></div></td></tr><tr><td>EventDttm</td><td><span>2025-01-13 08:00:04Z</span></td></tr><tr><td>ExecutionPath</td><td><div class=\"dni-plaintext\"><pre>\\CP_101_STG_P1\\run_template_stg\\Template_Parallel\\Queue 2[3]\\run_template_stg_onetable_q2\\Template_STG_OneTable\\Load data Src_Temp</pre></div></td></tr><tr><td>MessageType</td><td><div class=\"dni-plaintext\"><pre>120</pre></div></td></tr><tr><td>Message</td><td><div class=\"dni-plaintext\"><pre>Load data Src_Temp:Error: Execution Timeout Expired.  The timeout period elapsed prior to completion of the operation or the server is not responding.\r\n",
       "Operation cancelled by user.\r   at System.Data.SqlClient.SqlConnection.OnError(SqlException exception, Boolean breakConnection, Action`1 wrapCloseInAction)\r\n",
       "   at System.Data.SqlClient.TdsParser.ThrowExceptionAndWarning(TdsParserStateObject stateObj, Boolean callerHasConnectionLock, Boolean asyncClose)\r\n",
       "   at System.Data.SqlClient.TdsParser.TryRun(RunBehavior runBehavior, SqlCommand cmdHandler, SqlDataReader dataStream, BulkCopySimpleResultSet bulkCopyHandler, TdsParserStateObject stateObj, Boolean&amp; dataReady)\r\n",
       "   at System.Data.SqlClient.SqlCommand.FinishExecuteReader(SqlDataReader ds, RunBehavior runBehavior, String resetOptionsString, Boolean isInternal, Boolean forDescribeParameterEncryption, Boolean shouldCacheForAlwaysEncrypted)\r\n",
       "   at System.Data.SqlClient.SqlCommand.RunExecuteReaderTds(CommandBehavior cmdBehavior, RunBehavior runBehavior, Boolean returnStream, Boolean async, Int32 timeout, Task&amp; task, Boolean asyncWrite, Boolean inRetry, SqlDataReader ds, Boolean describeParameterEncryptionRequest)\r\n",
       "   at System.Data.SqlClient.SqlCommand.RunExecuteReader(CommandBehavior cmdBehavior, RunBehavior runBehavior, Boolean returnStream, String method, TaskCompletionSource`1 completion, Int32 timeout, Task&amp; task, Boolean&amp; usedCache, Boolean asyncWrite, Boolean inRetry)\r\n",
       "   at System.Data.SqlClient.SqlCommand.InternalExecuteNonQuery(TaskCompletionSource`1 completion, String methodName, Boolean sendToPipe, Int32 timeout, Boolean&amp; usedCache, Boolean asyncWrite, Boolean inRetry)\r\n",
       "   at System.Data.SqlClient.SqlCommand.ExecuteNonQuery()\r\n",
       "   at ST_0c78fa18fb15454f8597da50c3445bba.ScriptMain.Meta_get_data_for_stg_temp(String[]&amp; tt)</pre></div></td></tr><tr><td>MessageCode</td><td><div class=\"dni-plaintext\"><pre>0</pre></div></td></tr></tbody></table></div></details></td></tr></tbody></table><style>\r\n",
       ".dni-code-hint {\r\n",
       "    font-style: italic;\r\n",
       "    overflow: hidden;\r\n",
       "    white-space: nowrap;\r\n",
       "}\r\n",
       ".dni-treeview {\r\n",
       "    white-space: nowrap;\r\n",
       "}\r\n",
       ".dni-treeview td {\r\n",
       "    vertical-align: top;\r\n",
       "    text-align: start;\r\n",
       "}\r\n",
       "details.dni-treeview {\r\n",
       "    padding-left: 1em;\r\n",
       "}\r\n",
       "table td {\r\n",
       "    text-align: start;\r\n",
       "}\r\n",
       "table tr { \r\n",
       "    vertical-align: top; \r\n",
       "    margin: 0em 0px;\r\n",
       "}\r\n",
       "table tr td pre \r\n",
       "{ \r\n",
       "    vertical-align: top !important; \r\n",
       "    margin: 0em 0px !important;\r\n",
       "} \r\n",
       "table th {\r\n",
       "    text-align: start;\r\n",
       "}\r\n",
       "</style>"
      ]
     },
     "metadata": {},
     "output_type": "display_data"
    }
   ],
   "source": [
    "var res = ndwh.Join(ssism, n => n.SsisExecutionId, s => s.OperationId, (n, s) => new {\n",
    "                 ExecId = n.SsisExecutionId,\n",
    "                 EventDttm = n.EventDttm,\n",
    "                 ExecutionPath = s.ExecutionPath,\n",
    "                 MessageType = s.MessageType,\n",
    "                 Message = s.Message,\n",
    "                 MessageCode = s.MessageCode\n",
    "              });\n",
    "res"
   ]
  }
 ],
 "metadata": {
  "kernelspec": {
   "display_name": ".NET (C#)",
   "language": "C#",
   "name": ".net-csharp"
  },
  "polyglot_notebook": {
   "kernelInfo": {
    "defaultKernelName": "csharp",
    "items": [
     {
      "aliases": [],
      "languageName": "csharp",
      "name": "csharp"
     }
    ]
   }
  }
 },
 "nbformat": 4,
 "nbformat_minor": 2
}
